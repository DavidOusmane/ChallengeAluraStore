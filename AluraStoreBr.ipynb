{
  "cells": [
    {
      "cell_type": "markdown",
      "metadata": {
        "id": "RhEdWd9YUR6H"
      },
      "source": [
        "### Importação dos dados\n",
        "\n"
      ]
    },
    {
      "cell_type": "code",
      "execution_count": 10,
      "metadata": {},
      "outputs": [
        {
          "name": "stdout",
          "output_type": "stream",
          "text": [
            "Requirement already satisfied: pandas in c:\\users\\david\\appdata\\local\\programs\\python\\python313\\lib\\site-packages (2.2.3)\n",
            "Requirement already satisfied: numpy>=1.26.0 in c:\\users\\david\\appdata\\local\\programs\\python\\python313\\lib\\site-packages (from pandas) (2.2.5)\n",
            "Requirement already satisfied: python-dateutil>=2.8.2 in c:\\users\\david\\appdata\\roaming\\python\\python313\\site-packages (from pandas) (2.9.0.post0)\n",
            "Requirement already satisfied: pytz>=2020.1 in c:\\users\\david\\appdata\\local\\programs\\python\\python313\\lib\\site-packages (from pandas) (2025.2)\n",
            "Requirement already satisfied: tzdata>=2022.7 in c:\\users\\david\\appdata\\local\\programs\\python\\python313\\lib\\site-packages (from pandas) (2025.2)\n",
            "Requirement already satisfied: six>=1.5 in c:\\users\\david\\appdata\\roaming\\python\\python313\\site-packages (from python-dateutil>=2.8.2->pandas) (1.17.0)\n"
          ]
        },
        {
          "name": "stderr",
          "output_type": "stream",
          "text": [
            "\n",
            "[notice] A new release of pip is available: 25.0.1 -> 25.1.1\n",
            "[notice] To update, run: python.exe -m pip install --upgrade pip\n"
          ]
        },
        {
          "name": "stdout",
          "output_type": "stream",
          "text": [
            "Requirement already satisfied: openpyxl in c:\\users\\david\\appdata\\local\\programs\\python\\python313\\lib\\site-packages (3.1.5)\n",
            "Requirement already satisfied: et-xmlfile in c:\\users\\david\\appdata\\local\\programs\\python\\python313\\lib\\site-packages (from openpyxl) (2.0.0)\n"
          ]
        },
        {
          "name": "stderr",
          "output_type": "stream",
          "text": [
            "\n",
            "[notice] A new release of pip is available: 25.0.1 -> 25.1.1\n",
            "[notice] To update, run: python.exe -m pip install --upgrade pip\n"
          ]
        },
        {
          "name": "stdout",
          "output_type": "stream",
          "text": [
            "Requirement already satisfied: numpy in c:\\users\\david\\appdata\\local\\programs\\python\\python313\\lib\\site-packages (2.2.5)\n"
          ]
        },
        {
          "name": "stderr",
          "output_type": "stream",
          "text": [
            "\n",
            "[notice] A new release of pip is available: 25.0.1 -> 25.1.1\n",
            "[notice] To update, run: python.exe -m pip install --upgrade pip\n"
          ]
        }
      ],
      "source": [
        "! pip install pandas\n",
        "! pip install openpyxl\n",
        "! pip install numpy"
      ]
    },
    {
      "cell_type": "code",
      "execution_count": 11,
      "metadata": {
        "colab": {
          "base_uri": "https://localhost:8080/",
          "height": 206
        },
        "id": "T3EvaeQ_INIL",
        "outputId": "7194bc65-372c-47e6-cb47-d4bfc9952c91"
      },
      "outputs": [
        {
          "data": {
            "text/html": [
              "<div>\n",
              "<style scoped>\n",
              "    .dataframe tbody tr th:only-of-type {\n",
              "        vertical-align: middle;\n",
              "    }\n",
              "\n",
              "    .dataframe tbody tr th {\n",
              "        vertical-align: top;\n",
              "    }\n",
              "\n",
              "    .dataframe thead th {\n",
              "        text-align: right;\n",
              "    }\n",
              "</style>\n",
              "<table border=\"1\" class=\"dataframe\">\n",
              "  <thead>\n",
              "    <tr style=\"text-align: right;\">\n",
              "      <th></th>\n",
              "      <th>Produto</th>\n",
              "      <th>Categoria do Produto</th>\n",
              "      <th>Preço</th>\n",
              "      <th>Frete</th>\n",
              "      <th>Data da Compra</th>\n",
              "      <th>Vendedor</th>\n",
              "      <th>Local da compra</th>\n",
              "      <th>Avaliação da compra</th>\n",
              "      <th>Tipo de pagamento</th>\n",
              "      <th>Quantidade de parcelas</th>\n",
              "      <th>lat</th>\n",
              "      <th>lon</th>\n",
              "    </tr>\n",
              "  </thead>\n",
              "  <tbody>\n",
              "    <tr>\n",
              "      <th>0</th>\n",
              "      <td>Assistente virtual</td>\n",
              "      <td>eletronicos</td>\n",
              "      <td>219.08</td>\n",
              "      <td>9.249790</td>\n",
              "      <td>16/01/2021</td>\n",
              "      <td>Pedro Gomes</td>\n",
              "      <td>SP</td>\n",
              "      <td>4</td>\n",
              "      <td>cartao_credito</td>\n",
              "      <td>8</td>\n",
              "      <td>-22.19</td>\n",
              "      <td>-48.79</td>\n",
              "    </tr>\n",
              "    <tr>\n",
              "      <th>1</th>\n",
              "      <td>Mesa de jantar</td>\n",
              "      <td>moveis</td>\n",
              "      <td>256.35</td>\n",
              "      <td>11.234305</td>\n",
              "      <td>18/05/2022</td>\n",
              "      <td>Beatriz Moraes</td>\n",
              "      <td>RJ</td>\n",
              "      <td>1</td>\n",
              "      <td>cartao_credito</td>\n",
              "      <td>4</td>\n",
              "      <td>-22.25</td>\n",
              "      <td>-42.66</td>\n",
              "    </tr>\n",
              "    <tr>\n",
              "      <th>2</th>\n",
              "      <td>Jogo de tabuleiro</td>\n",
              "      <td>brinquedos</td>\n",
              "      <td>279.51</td>\n",
              "      <td>21.262681</td>\n",
              "      <td>15/03/2021</td>\n",
              "      <td>João Souza</td>\n",
              "      <td>DF</td>\n",
              "      <td>1</td>\n",
              "      <td>cartao_credito</td>\n",
              "      <td>1</td>\n",
              "      <td>-15.83</td>\n",
              "      <td>-47.86</td>\n",
              "    </tr>\n",
              "    <tr>\n",
              "      <th>3</th>\n",
              "      <td>Micro-ondas</td>\n",
              "      <td>eletrodomesticos</td>\n",
              "      <td>1009.99</td>\n",
              "      <td>54.667344</td>\n",
              "      <td>03/05/2022</td>\n",
              "      <td>João Souza</td>\n",
              "      <td>RS</td>\n",
              "      <td>4</td>\n",
              "      <td>boleto</td>\n",
              "      <td>1</td>\n",
              "      <td>-30.17</td>\n",
              "      <td>-53.50</td>\n",
              "    </tr>\n",
              "    <tr>\n",
              "      <th>4</th>\n",
              "      <td>Cadeira de escritório</td>\n",
              "      <td>moveis</td>\n",
              "      <td>446.99</td>\n",
              "      <td>26.964689</td>\n",
              "      <td>07/11/2020</td>\n",
              "      <td>Larissa Alves</td>\n",
              "      <td>MG</td>\n",
              "      <td>5</td>\n",
              "      <td>boleto</td>\n",
              "      <td>1</td>\n",
              "      <td>-18.10</td>\n",
              "      <td>-44.38</td>\n",
              "    </tr>\n",
              "  </tbody>\n",
              "</table>\n",
              "</div>"
            ],
            "text/plain": [
              "                 Produto Categoria do Produto    Preço      Frete  \\\n",
              "0     Assistente virtual          eletronicos   219.08   9.249790   \n",
              "1         Mesa de jantar               moveis   256.35  11.234305   \n",
              "2      Jogo de tabuleiro           brinquedos   279.51  21.262681   \n",
              "3            Micro-ondas     eletrodomesticos  1009.99  54.667344   \n",
              "4  Cadeira de escritório               moveis   446.99  26.964689   \n",
              "\n",
              "  Data da Compra        Vendedor Local da compra  Avaliação da compra  \\\n",
              "0     16/01/2021     Pedro Gomes              SP                    4   \n",
              "1     18/05/2022  Beatriz Moraes              RJ                    1   \n",
              "2     15/03/2021      João Souza              DF                    1   \n",
              "3     03/05/2022      João Souza              RS                    4   \n",
              "4     07/11/2020   Larissa Alves              MG                    5   \n",
              "\n",
              "  Tipo de pagamento  Quantidade de parcelas    lat    lon  \n",
              "0    cartao_credito                       8 -22.19 -48.79  \n",
              "1    cartao_credito                       4 -22.25 -42.66  \n",
              "2    cartao_credito                       1 -15.83 -47.86  \n",
              "3            boleto                       1 -30.17 -53.50  \n",
              "4            boleto                       1 -18.10 -44.38  "
            ]
          },
          "execution_count": 11,
          "metadata": {},
          "output_type": "execute_result"
        }
      ],
      "source": [
        "import pandas as pd\n",
        "\n",
        "url = \"https://raw.githubusercontent.com/alura-es-cursos/challenge1-data-science/refs/heads/main/base-de-dados-challenge-1/loja_1.csv\"\n",
        "url2 = \"https://raw.githubusercontent.com/alura-es-cursos/challenge1-data-science/refs/heads/main/base-de-dados-challenge-1/loja_2.csv\"\n",
        "url3 = \"https://raw.githubusercontent.com/alura-es-cursos/challenge1-data-science/refs/heads/main/base-de-dados-challenge-1/loja_3.csv\"\n",
        "url4 = \"https://raw.githubusercontent.com/alura-es-cursos/challenge1-data-science/refs/heads/main/base-de-dados-challenge-1/loja_4.csv\"\n",
        "\n",
        "loja = pd.read_csv(url)\n",
        "loja2 = pd.read_csv(url2)\n",
        "loja3 = pd.read_csv(url3)\n",
        "loja4 = pd.read_csv(url4)\n",
        "\n",
        "loja.head()"
      ]
    },
    {
      "cell_type": "code",
      "execution_count": 12,
      "metadata": {},
      "outputs": [],
      "source": [
        "lojas = [loja,loja2,loja3,loja4]\n",
        "ind = 0"
      ]
    },
    {
      "cell_type": "markdown",
      "metadata": {
        "id": "X62IW3KFUIYm"
      },
      "source": [
        "#1. Análise do faturamento\n"
      ]
    },
    {
      "cell_type": "code",
      "execution_count": 13,
      "metadata": {},
      "outputs": [],
      "source": [
        "Faturamento_l1 = sum(lojas[0]['Preço'])\n",
        "Faturamento_l2 = sum(lojas[1]['Preço'])\n",
        "Faturamento_l3 = sum(lojas[2]['Preço'])\n",
        "Faturamento_l4 = sum(lojas[3]['Preço'])\n",
        "Faturamento_total = 0"
      ]
    },
    {
      "cell_type": "code",
      "execution_count": 14,
      "metadata": {},
      "outputs": [],
      "source": [
        "while ind < len(lojas):\n",
        "    Faturamento_total = Faturamento_total + sum(lojas[ind]['Preço'])\n",
        "    ind = ind + 1"
      ]
    },
    {
      "cell_type": "code",
      "execution_count": 15,
      "metadata": {
        "id": "xykobSftV64I"
      },
      "outputs": [
        {
          "name": "stdout",
          "output_type": "stream",
          "text": [
            "5871490.79\n"
          ]
        }
      ],
      "source": [
        "print(Faturamento_total)"
      ]
    },
    {
      "cell_type": "code",
      "execution_count": 16,
      "metadata": {},
      "outputs": [
        {
          "data": {
            "text/plain": [
              "Index([         ('Assistente virtual', 'eletronicos', 219.08, 9.2497899853, '16/01/2021', 'Pedro Gomes', 'SP', 4, 'cartao_credito', 8, -22.19, -48.79),\n",
              "                     ('Mesa de jantar', 'moveis', 256.35, 11.2343053621, '18/05/2022', 'Beatriz Moraes', 'RJ', 1, 'cartao_credito', 4, -22.25, -42.66),\n",
              "                  ('Jogo de tabuleiro', 'brinquedos', 279.51, 21.2626809863, '15/03/2021', 'João Souza', 'DF', 1, 'cartao_credito', 1, -15.83, -47.86),\n",
              "                          ('Micro-ondas', 'eletrodomesticos', 1009.99, 54.6673442173, '03/05/2022', 'João Souza', 'RS', 4, 'boleto', 1, -30.17, -53.5),\n",
              "                        ('Cadeira de escritório', 'moveis', 446.99, 26.9646890964, '07/11/2020', 'Larissa Alves', 'MG', 5, 'boleto', 1, -18.1, -44.38),\n",
              "                                    ('Blocos de montar', 'brinquedos', 32.26, 0.0, '03/12/2020', 'Beatriz Moraes', 'RS', 5, 'cupom', 1, -30.17, -53.5),\n",
              "                                            ('Boneca bebê', 'brinquedos', 58.9, 0.0, '07/08/2021', 'João Souza', 'SP', 3, 'boleto', 1, -22.19, -48.79),\n",
              "               ('Lava louças', 'eletrodomesticos', 1586.23, 84.9930800049, '18/06/2021', 'Felipe Santos', 'CE', 5, 'cartao_credito', 10, -5.2, -39.53),\n",
              "       ('Lavadora de roupas', 'eletrodomesticos', 2024.31, 105.3728566247, '08/01/2022', 'Thiago Silva', 'SP', 1, 'cartao_credito', 5, -22.19, -48.79),\n",
              "                 ('Carrinho controle remoto', 'brinquedos', 100.26, 6.737658724, '24/02/2020', 'Beatriz Moraes', 'SP', 5, 'boleto', 1, -22.19, -48.79),\n",
              "       ...\n",
              "                              ('Faqueiro', 'utilidades domesticas', 47.63, 0.0, '29/06/2020', 'Isabella Pereira', 'MG', 4, 'boleto', 1, -18.1, -44.38),\n",
              "                  ('Carrinho controle remoto', 'brinquedos', 91.81, 2.4730453648, '05/03/2023', 'Larissa Alves', 'RJ', 5, 'boleto', 1, -22.25, -42.66),\n",
              "              ('Cadeira de escritório', 'moveis', 652.36, 37.9000237605, '10/12/2020', 'Lucas Oliveira', 'SP', 5, 'cartao_credito', 2, -22.19, -48.79),\n",
              "                                     ('Cama king', 'moveis', 677.19, 43.856381348, '10/02/2021', 'Rafael Costa', 'RJ', 5, 'boleto', 1, -22.25, -42.66),\n",
              "                       ('Faqueiro', 'utilidades domesticas', 53.95, 0.0, '30/12/2022', 'Lucas Oliveira', 'SP', 5, 'cartao_credito', 1, -22.19, -48.79),\n",
              "                       ('Celular Plus X42', 'eletronicos', 1712.54, 88.7720420547, '15/11/2021', 'Thiago Silva', 'RJ', 1, 'boleto', 1, -22.25, -42.66),\n",
              "                            ('Impressora', 'eletronicos', 377.02, 20.3639575838, '18/03/2023', 'Lucas Oliveira', 'SP', 5, 'boleto', 1, -22.19, -48.79),\n",
              "               ('Jogo de tabuleiro', 'brinquedos', 163.82, 9.6113373383, '06/07/2021', 'Lucas Oliveira', 'PR', 5, 'cartao_credito', 4, -24.89, -51.55),\n",
              "                               ('Cama box', 'moveis', 921.77, 46.6659185101, '02/05/2022', 'Pedro Gomes', 'RN', 1, 'cartao_credito', 2, -5.81, -36.59),\n",
              "                      ('Smartwatch', 'eletronicos', 259.95, 11.4259945318, '18/06/2022', 'Felipe Santos', 'RS', 4, 'cartao_credito', 1, -30.17, -53.5)],\n",
              "      dtype='object', length=2359)"
            ]
          },
          "execution_count": 16,
          "metadata": {},
          "output_type": "execute_result"
        }
      ],
      "source": [
        "pd.Index(loja)"
      ]
    },
    {
      "cell_type": "markdown",
      "metadata": {
        "id": "2V_vcAPzWZmR"
      },
      "source": [
        "# 2. Vendas por Categoria\n"
      ]
    },
    {
      "cell_type": "code",
      "execution_count": 17,
      "metadata": {
        "id": "yZR6cOjXYSk1"
      },
      "outputs": [],
      "source": [
        "Categorias = []\n",
        "Faturamento_per_cat = {}\n"
      ]
    },
    {
      "cell_type": "code",
      "execution_count": 18,
      "metadata": {
        "id": "A34YupIuYhfF"
      },
      "outputs": [],
      "source": [
        "for i in range(len(lojas)):\n",
        "    for categoria in lojas[i]['Categoria do Produto']:\n",
        "        if categoria not in Categorias:\n",
        "            Categorias.append(categoria)"
      ]
    },
    {
      "cell_type": "code",
      "execution_count": 19,
      "metadata": {},
      "outputs": [
        {
          "data": {
            "text/plain": [
              "8"
            ]
          },
          "execution_count": 19,
          "metadata": {},
          "output_type": "execute_result"
        }
      ],
      "source": [
        "len(Categorias)\n",
        "    \n"
      ]
    },
    {
      "cell_type": "code",
      "execution_count": null,
      "metadata": {},
      "outputs": [
        {
          "name": "stdout",
          "output_type": "stream",
          "text": [
            "{'eletronicos': 0, 'moveis': 0, 'brinquedos': 0, 'eletrodomesticos': 0, 'utilidades domesticas': 0, 'esporte e lazer': 0, 'livros': 0, 'instrumentos musicais': 0}\n"
          ]
        }
      ],
      "source": [
        "Categorias = ['eletronicos', 'moveis', 'brinquedos', 'eletrodomesticos', \n",
        "              'utilidades domesticas', 'esporte e lazer', 'livros', 'instrumentos musicais']\n",
        "\n",
        "faturamento = {categoria: 0 for categoria in Categorias}\n",
        "\n",
        "print(faturamento)"
      ]
    },
    {
      "cell_type": "code",
      "execution_count": 43,
      "metadata": {},
      "outputs": [
        {
          "name": "stdout",
          "output_type": "stream",
          "text": [
            "{'brinquedos': 98140.86, 'eletrodomesticos': 1766337.03, 'eletronicos': 2214099.72, 'esporte e lazer': 190635.39, 'instrumentos musicais': 465029.67, 'livros': 50260.74, 'moveis': 1010214.0, 'utilidades domesticas': 76773.38}\n",
            "Categoria do Produto\n",
            "brinquedos                 98140.86\n",
            "eletrodomesticos         1766337.03\n",
            "eletronicos              2214099.72\n",
            "esporte e lazer           190635.39\n",
            "instrumentos musicais     465029.67\n",
            "livros                     50260.74\n",
            "moveis                   1010214.00\n",
            "utilidades domesticas      76773.38\n",
            "Name: Preço, dtype: float64\n"
          ]
        }
      ],
      "source": [
        "todas_as_lojas = pd.concat([loja, loja2, loja3, loja4], ignore_index=True)\n",
        "\n",
        "# Agrupa por categoria e soma os valores da coluna \"Preço\"\n",
        "faturamento_por_categoria = todas_as_lojas.groupby(\"Categoria do Produto\")[\"Preço\"].sum()\n",
        "\n",
        "# Converte o resultado para dicionário\n",
        "faturamento_dict = faturamento_por_categoria.to_dict()\n",
        "\n",
        "# Exibe o dicionário\n",
        "print(faturamento_dict)\n",
        "\n",
        "print (faturamento_por_categoria)"
      ]
    },
    {
      "cell_type": "markdown",
      "metadata": {
        "id": "Rq6tU_xSY3jk"
      },
      "source": [
        "# 3. Média de Avaliação das Lojas"
      ]
    },
    {
      "cell_type": "code",
      "execution_count": null,
      "metadata": {
        "id": "bh3jjjJwY5MU"
      },
      "outputs": [],
      "source": [
        "Avaliação_1 = sum(lojas[0]['Avaliação do Produto']\n",
        "Avaliação_2 = sum(lojas[1]['Preço'])\n",
        "Avaliação_3 = sum(lojas[2]['Preço'])\n",
        "Avaliação_4 = sum(lojas[3]['Preço'])"
      ]
    },
    {
      "cell_type": "code",
      "execution_count": null,
      "metadata": {
        "id": "I0KkjPoTY88F"
      },
      "outputs": [],
      "source": []
    },
    {
      "cell_type": "markdown",
      "metadata": {
        "id": "DmNp1KPBZCm-"
      },
      "source": [
        "# 4. Produtos Mais e Menos Vendidos"
      ]
    },
    {
      "cell_type": "code",
      "execution_count": null,
      "metadata": {
        "id": "qoyjqijQZHfF"
      },
      "outputs": [],
      "source": []
    },
    {
      "cell_type": "code",
      "execution_count": null,
      "metadata": {
        "id": "0Sw3sd4IZIGW"
      },
      "outputs": [],
      "source": []
    },
    {
      "cell_type": "markdown",
      "metadata": {
        "id": "Fl0cGi3bZKqU"
      },
      "source": [
        "# 5. Frete Médio por Loja\n"
      ]
    },
    {
      "cell_type": "code",
      "execution_count": null,
      "metadata": {
        "id": "S2JeaCykZNy9"
      },
      "outputs": [],
      "source": []
    },
    {
      "cell_type": "code",
      "execution_count": null,
      "metadata": {
        "id": "0tSdCie9ZQlt"
      },
      "outputs": [],
      "source": []
    },
    {
      "cell_type": "markdown",
      "metadata": {},
      "source": [
        "# 6. Avaliação"
      ]
    }
  ],
  "metadata": {
    "colab": {
      "provenance": []
    },
    "kernelspec": {
      "display_name": "Python 3",
      "name": "python3"
    },
    "language_info": {
      "codemirror_mode": {
        "name": "ipython",
        "version": 3
      },
      "file_extension": ".py",
      "mimetype": "text/x-python",
      "name": "python",
      "nbconvert_exporter": "python",
      "pygments_lexer": "ipython3",
      "version": "3.13.3"
    }
  },
  "nbformat": 4,
  "nbformat_minor": 0
}
